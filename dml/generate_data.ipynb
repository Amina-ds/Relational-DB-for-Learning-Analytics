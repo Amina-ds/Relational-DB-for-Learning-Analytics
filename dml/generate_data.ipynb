{
  "nbformat": 4,
  "nbformat_minor": 0,
  "metadata": {
    "colab": {
      "provenance": []
    },
    "kernelspec": {
      "name": "python3",
      "display_name": "Python 3"
    },
    "language_info": {
      "name": "python"
    }
  },
  "cells": [
    {
      "cell_type": "code",
      "execution_count": 1,
      "metadata": {
        "colab": {
          "base_uri": "https://localhost:8080/"
        },
        "id": "tETjoPLkVigN",
        "outputId": "bd713cfc-d53c-4727-f1fd-375dc1d65391"
      },
      "outputs": [
        {
          "output_type": "stream",
          "name": "stdout",
          "text": [
            "✅ Файл 'dml_emotion_events.sql' с 350 записями успешно создан.\n"
          ]
        }
      ],
      "source": [
        "import random\n",
        "from datetime import datetime, timedelta\n",
        "\n",
        "classes_to_courses = {\n",
        "    1: 1, 2: 1, 3: 2, 4: 2, 5: 3, 6: 3, 7: 4, 8: 4, 9: 5, 10: 5,\n",
        "    11: 1, 12: 2, 13: 3, 14: 4, 15: 5, 16: 1, 17: 2, 18: 3, 19: 4, 20: 5\n",
        "}\n",
        "\n",
        "enrollments = [\n",
        "    (1, 1), (2, 1), (3, 1), (7, 1), (10, 1), (13, 1), (16, 1), (19, 1), (22, 1), (25, 1), (28, 1),\n",
        "    (4, 2), (6, 2), (8, 2), (11, 2), (14, 2), (17, 2), (20, 2), (23, 2), (26, 2), (29, 2),\n",
        "    (1, 3), (5, 3), (9, 3), (12, 3), (15, 3), (18, 3), (21, 3), (24, 3), (27, 3), (30, 3),\n",
        "    (1, 4), (4, 4), (8, 4), (12, 4), (16, 4), (20, 4), (24, 4), (28, 4),\n",
        "    (2, 5), (5, 5), (10, 5), (15, 5), (20, 5), (25, 5), (30, 5), (3, 5), (6, 5), (9, 5), (11, 5)\n",
        "]\n",
        "\n",
        "courses_to_students = {}\n",
        "for student_id, course_id in enrollments:\n",
        "    if course_id not in courses_to_students:\n",
        "        courses_to_students[course_id] = []\n",
        "    courses_to_students[course_id].append(student_id)\n",
        "\n",
        "NUM_EVENTS = 350\n",
        "OUTPUT_FILENAME = \"dml_emotion_events.sql\"\n",
        "\n",
        "emotions = {\n",
        "    1: {\"name\": \"happy\", \"valence_range\": (0.5, 1.0), \"arousal_range\": (0.2, 0.6)},\n",
        "    2: {\"name\": \"sad\", \"valence_range\": (-1.0, -0.5), \"arousal_range\": (-0.5, -0.2)},\n",
        "    3: {\"name\": \"neutral\", \"valence_range\": (-0.2, 0.2), \"arousal_range\": (-0.3, 0.3)},\n",
        "    4: {\"name\": \"surprised\", \"valence_range\": (0.1, 0.6), \"arousal_range\": (0.5, 0.9)},\n",
        "    5: {\"name\": \"angry\", \"valence_range\": (-0.8, -0.4), \"arousal_range\": (0.6, 0.9)},\n",
        "    6: {\"name\": \"fear\", \"valence_range\": (-0.7, -0.3), \"arousal_range\": (0.5, 0.8)},\n",
        "    7: {\"name\": \"disgust\", \"valence_range\": (-0.9, -0.5), \"arousal_range\": (0.3, 0.6)}\n",
        "}\n",
        "\n",
        "sql_inserts = []\n",
        "all_class_ids = list(classes_to_courses.keys())\n",
        "\n",
        "for _ in range(NUM_EVENTS):\n",
        "\n",
        "    class_id = random.choice(all_class_ids)\n",
        "    course_id = classes_to_courses[class_id]\n",
        "\n",
        "    possible_students = courses_to_students.get(course_id)\n",
        "    if not possible_students:\n",
        "        continue\n",
        "    student_id = random.choice(possible_students)\n",
        "\n",
        "    ts = datetime(2025, 9, random.randint(1, 28), random.randint(9, 17), random.randint(0, 59), random.randint(0, 59))\n",
        "    ts_str = ts.strftime('%Y-%m-%d %H:%M:%S+05')\n",
        "    source = random.choice(['video', 'audio', 'text'])\n",
        "\n",
        "    emotion_id = random.choice(list(emotions.keys()))\n",
        "    emotion_details = emotions[emotion_id]\n",
        "\n",
        "    valence = round(random.uniform(*emotion_details[\"valence_range\"]), 3)\n",
        "    arousal = round(random.uniform(*emotion_details[\"arousal_range\"]), 3)\n",
        "    confidence = round(random.uniform(0.70, 0.99), 2)\n",
        "\n",
        "    sql_inserts.append(\n",
        "        f\"({class_id}, {student_id}, '{ts_str}', '{source}', {emotion_id}, {valence}, {arousal}, {confidence})\"\n",
        "    )\n",
        "\n",
        "full_sql_script = \"INSERT INTO emotion_events (class_id, student_id, ts, source, dominant_emotion_id, valence, arousal, confidence) VALUES\\n\"\n",
        "full_sql_script += \",\\n\".join(sql_inserts)\n",
        "full_sql_script += \";\"\n",
        "\n",
        "with open(OUTPUT_FILENAME, 'w', encoding='utf-8') as f:\n",
        "    f.write(full_sql_script)"
      ]
    }
  ]
}